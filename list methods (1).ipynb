{
 "cells": [
  {
   "cell_type": "markdown",
   "id": "5c0cbac0-eedb-4106-ba2e-55024ad10da0",
   "metadata": {},
   "source": [
    "list methods"
   ]
  },
  {
   "cell_type": "code",
   "execution_count": 1,
   "id": "f55eafb4-ca85-4d47-8f74-673b566ba21b",
   "metadata": {},
   "outputs": [
    {
     "name": "stdout",
     "output_type": "stream",
     "text": [
      "[1, 2, 3, 4]\n"
     ]
    }
   ],
   "source": [
    "# append \n",
    "my_list = [1, 2, 3]\n",
    "my_list.append(4)\n",
    "print(my_list) "
   ]
  },
  {
   "cell_type": "code",
   "execution_count": 5,
   "id": "14e12b72-ad3e-4704-b781-9421d20c2b8b",
   "metadata": {},
   "outputs": [
    {
     "name": "stdout",
     "output_type": "stream",
     "text": [
      "[1, 2, 3, 4, 5]\n"
     ]
    }
   ],
   "source": [
    "my_list = [1, 2, 3]\n",
    "my_list.append(4)\n",
    "my_list.append(5)\n",
    "print(my_list)"
   ]
  },
  {
   "cell_type": "code",
   "execution_count": 6,
   "id": "f6d9e63c-8b65-4abd-af71-5f443e9bdb0f",
   "metadata": {},
   "outputs": [
    {
     "name": "stdout",
     "output_type": "stream",
     "text": [
      "[1, 2, 3, 'apple', True]\n"
     ]
    }
   ],
   "source": [
    "my_list = [1, 2, 3]\n",
    "my_list.append('apple')\n",
    "my_list.append(True)\n",
    "print(my_list)  "
   ]
  },
  {
   "cell_type": "code",
   "execution_count": 9,
   "id": "4880d947-4cca-450a-ac74-d3b82e4283a7",
   "metadata": {},
   "outputs": [
    {
     "name": "stdout",
     "output_type": "stream",
     "text": [
      "[1, 2, 3, [4, 5]]\n"
     ]
    }
   ],
   "source": [
    "list1 = [1, 2, 3]\n",
    "list2 = [4, 5]\n",
    "list1.append(list2)\n",
    "print(list1) "
   ]
  },
  {
   "cell_type": "code",
   "execution_count": 10,
   "id": "d86a0cbb-bcc4-449c-b79d-7d1c6236fa6c",
   "metadata": {},
   "outputs": [
    {
     "name": "stdout",
     "output_type": "stream",
     "text": [
      "[1, 4, 9, 4, 5]\n"
     ]
    }
   ],
   "source": [
    "#extend\n",
    "list1 = [1, 4, 9]\n",
    "list2 = [4, 5]\n",
    "list1.extend(list2)\n",
    "print(list1) "
   ]
  },
  {
   "cell_type": "code",
   "execution_count": 11,
   "id": "56b4a588-26c7-489b-a307-9f0395492e5f",
   "metadata": {},
   "outputs": [
    {
     "name": "stdout",
     "output_type": "stream",
     "text": [
      "[1, 2, 3, 4, 5, 6]\n"
     ]
    }
   ],
   "source": [
    "list1 = [1, 2, 3]\n",
    "list2 = [4, 5, 6]\n",
    "list1.extend(list2)\n",
    "print(list1) "
   ]
  },
  {
   "cell_type": "code",
   "execution_count": 13,
   "id": "01975d86-4a18-4be4-8d1e-67373f34d66c",
   "metadata": {},
   "outputs": [
    {
     "name": "stdout",
     "output_type": "stream",
     "text": [
      "[1, 2, 3, 'hello']\n"
     ]
    }
   ],
   "source": [
    "my_list = [1, 2, 3]\n",
    "my_list2= [\"hello\"]\n",
    "my_list.extend(my_list2)\n",
    "print(my_list)  "
   ]
  },
  {
   "cell_type": "code",
   "execution_count": 28,
   "id": "0fd2462d-95b8-486a-984e-19b876079910",
   "metadata": {},
   "outputs": [
    {
     "name": "stdout",
     "output_type": "stream",
     "text": [
      "[7, 1, 5, 2, 3]\n"
     ]
    }
   ],
   "source": [
    "#insert\n",
    "my_list = [1, 2, 3]\n",
    "my_list.insert(1, 5)\n",
    "my_list.insert(0, 7)\n",
    "print(my_list)"
   ]
  },
  {
   "cell_type": "code",
   "execution_count": 17,
   "id": "9d247a0a-45c0-49af-b674-51739e90ddf5",
   "metadata": {},
   "outputs": [
    {
     "name": "stdout",
     "output_type": "stream",
     "text": [
      "[2, 1, 3, 4]\n"
     ]
    }
   ],
   "source": [
    "my_list = [2, 3, 4]\n",
    "my_list.insert(1, 1)\n",
    "print(my_list) "
   ]
  },
  {
   "cell_type": "code",
   "execution_count": 18,
   "id": "a9e4cc97-6401-4fdf-885b-90292fe73d44",
   "metadata": {},
   "outputs": [
    {
     "name": "stdout",
     "output_type": "stream",
     "text": [
      "[1, 2, 3, 4, 5]\n"
     ]
    }
   ],
   "source": [
    "my_list = [1, 2, 4, 5]\n",
    "my_list.insert(2, 3)\n",
    "print(my_list)"
   ]
  },
  {
   "cell_type": "code",
   "execution_count": 21,
   "id": "f75c5ae3-e8a8-4f01-bcb4-2c1279f916db",
   "metadata": {},
   "outputs": [
    {
     "name": "stdout",
     "output_type": "stream",
     "text": [
      "[1, 2, 4, 3, 5, 3]\n"
     ]
    }
   ],
   "source": [
    "#remove\n",
    "my_list = [1, 2, 3, 4, 3, 5, 3]\n",
    "my_list.remove(3)\n",
    "print(my_list)  "
   ]
  },
  {
   "cell_type": "code",
   "execution_count": 27,
   "id": "c13a53a7-70b5-4e44-b7ac-e82473ca2d31",
   "metadata": {},
   "outputs": [
    {
     "name": "stdout",
     "output_type": "stream",
     "text": [
      "[2, 3, 4, 3, 3]\n"
     ]
    }
   ],
   "source": [
    "my_list = [1, 2, 3, 4, 3, 5, 3]\n",
    "my_list.remove(1)\n",
    "my_list.remove(5)\n",
    "print(my_list)  "
   ]
  },
  {
   "cell_type": "code",
   "execution_count": 26,
   "id": "75b41fee-30b8-42f0-a2d0-b2ea69ce9a11",
   "metadata": {},
   "outputs": [
    {
     "name": "stdout",
     "output_type": "stream",
     "text": [
      "[1, 2, 4]\n"
     ]
    }
   ],
   "source": [
    "my_list = [1, 2, 3, 4, 3]\n",
    "my_list.remove(3)\n",
    "my_list.remove(3)\n",
    "print(my_list) "
   ]
  },
  {
   "cell_type": "code",
   "execution_count": 29,
   "id": "ce3da34e-3299-481d-adb0-f9bfa553fa44",
   "metadata": {},
   "outputs": [
    {
     "name": "stdout",
     "output_type": "stream",
     "text": [
      "5\n",
      "[1, 2, 3, 4]\n"
     ]
    }
   ],
   "source": [
    "#pop\n",
    "my_list = [1, 2, 3, 4, 5]\n",
    "last_element = my_list.pop()\n",
    "print(last_element)  \n",
    "print(my_list)  "
   ]
  },
  {
   "cell_type": "code",
   "execution_count": 46,
   "id": "89bd6f91-5dbd-4e85-8040-39f716ae0ca9",
   "metadata": {},
   "outputs": [
    {
     "name": "stdout",
     "output_type": "stream",
     "text": [
      "4\n",
      "[1, 2, 3, 5]\n"
     ]
    }
   ],
   "source": [
    "my_list = [1, 2, 3, 4, 5]\n",
    "element_list = my_list.pop(3)\n",
    "print(element_list)  \n",
    "print(my_list)             "
   ]
  },
  {
   "cell_type": "code",
   "execution_count": 48,
   "id": "4ec8458b-cdd0-402d-a779-27295eb1ff0c",
   "metadata": {},
   "outputs": [
    {
     "name": "stdout",
     "output_type": "stream",
     "text": [
      "5\n",
      "[1, 2, 3, 4]\n"
     ]
    }
   ],
   "source": [
    "my_list = [1, 2, 3, 4, 5]\n",
    "element = my_list.pop(-1)\n",
    "print(element)  \n",
    "print(my_list)  "
   ]
  },
  {
   "cell_type": "code",
   "execution_count": 50,
   "id": "34e84985-180f-4fdc-b2ad-20def49e2165",
   "metadata": {},
   "outputs": [
    {
     "name": "stdout",
     "output_type": "stream",
     "text": [
      "0\n"
     ]
    }
   ],
   "source": [
    "#index\n",
    "numbers = [10,10,20,30,40,40,50,60,60]\n",
    "index = numbers.index(10)\n",
    "print(index)"
   ]
  },
  {
   "cell_type": "code",
   "execution_count": 51,
   "id": "7ff89daf-be0a-4c1a-8029-c42465917158",
   "metadata": {},
   "outputs": [
    {
     "name": "stdout",
     "output_type": "stream",
     "text": [
      "2\n"
     ]
    }
   ],
   "source": [
    "my_list = [10, 20, 30, 40, 50]\n",
    "index = my_list.index(30)\n",
    "print(index)"
   ]
  },
  {
   "cell_type": "code",
   "execution_count": 58,
   "id": "e26e78cf-87b9-411c-b73e-70ab93924888",
   "metadata": {},
   "outputs": [
    {
     "name": "stdout",
     "output_type": "stream",
     "text": [
      "4\n"
     ]
    }
   ],
   "source": [
    "my_list = [10, 20, 30, 40, 50]\n",
    "index = my_list.index(50)\n",
    "print(index)"
   ]
  },
  {
   "cell_type": "code",
   "execution_count": 59,
   "id": "2895dab6-a43c-4309-bfb3-fae87197d8e6",
   "metadata": {},
   "outputs": [
    {
     "name": "stdout",
     "output_type": "stream",
     "text": [
      "3\n"
     ]
    }
   ],
   "source": [
    "#count\n",
    "my_list = [1, 2, 2, 3, 3, 3, 4, 4, 4, 4]\n",
    "count = my_list.count(3)\n",
    "print(count)"
   ]
  },
  {
   "cell_type": "code",
   "execution_count": 61,
   "id": "6cdbbf98-7a77-4603-8676-423ddadd0864",
   "metadata": {},
   "outputs": [
    {
     "name": "stdout",
     "output_type": "stream",
     "text": [
      "1\n"
     ]
    }
   ],
   "source": [
    "my_list = ['apple', 'banana', 'apple', 'orange', 'apple']\n",
    "count = my_list.count('banana')\n",
    "print(count)"
   ]
  },
  {
   "cell_type": "code",
   "execution_count": 63,
   "id": "65c3fae7-e08d-4f4e-8594-d4389daab25e",
   "metadata": {},
   "outputs": [
    {
     "name": "stdout",
     "output_type": "stream",
     "text": [
      "2\n"
     ]
    }
   ],
   "source": [
    "my_list = [[1, 2], [2, 3],  [1, 2, 3], [1, 2]]\n",
    "count = my_list.count([1, 2])\n",
    "print(count)"
   ]
  },
  {
   "cell_type": "code",
   "execution_count": 64,
   "id": "b13c005f-aedf-4d6a-a608-5519d008e72c",
   "metadata": {},
   "outputs": [
    {
     "name": "stdout",
     "output_type": "stream",
     "text": [
      "[1, 2, 3, 4, 5]\n"
     ]
    }
   ],
   "source": [
    "#sort\n",
    "my_list = [4, 2, 1, 3, 5]\n",
    "my_list.sort()\n",
    "print(my_list) "
   ]
  },
  {
   "cell_type": "code",
   "execution_count": 65,
   "id": "871313ce-5087-4c17-abb5-9ca645164c88",
   "metadata": {},
   "outputs": [
    {
     "name": "stdout",
     "output_type": "stream",
     "text": [
      "['apple', 'banana', 'grape', 'orange']\n"
     ]
    }
   ],
   "source": [
    "my_list = ['banana', 'apple', 'orange', 'grape']\n",
    "my_list.sort()\n",
    "print( my_list) "
   ]
  },
  {
   "cell_type": "code",
   "execution_count": 66,
   "id": "f762dc68-1fd1-40b5-95c6-bba2751c4f3d",
   "metadata": {},
   "outputs": [
    {
     "name": "stdout",
     "output_type": "stream",
     "text": [
      "['Orange', 'apple', 'banana', 'grape']\n"
     ]
    }
   ],
   "source": [
    "my_list = ['banana', 'apple', 'Orange', 'grape']\n",
    "my_list.sort()\n",
    "print( my_list)"
   ]
  },
  {
   "cell_type": "code",
   "execution_count": 67,
   "id": "cab8b418-09c8-4da9-835a-310d70aa4a8c",
   "metadata": {},
   "outputs": [
    {
     "name": "stdout",
     "output_type": "stream",
     "text": [
      "[5, 4, 3, 2, 1]\n"
     ]
    }
   ],
   "source": [
    "#reverse\n",
    "my_list = [1, 2, 3, 4, 5]\n",
    "my_list.reverse()\n",
    "print(my_list)"
   ]
  },
  {
   "cell_type": "code",
   "execution_count": 68,
   "id": "987b8a52-0b5c-4be5-9403-4cc65b124d2a",
   "metadata": {},
   "outputs": [
    {
     "name": "stdout",
     "output_type": "stream",
     "text": [
      "['grape', 'orange', 'banana', 'apple']\n"
     ]
    }
   ],
   "source": [
    "my_list = ['apple', 'banana', 'orange', 'grape']\n",
    "my_list.reverse()\n",
    "print(my_list)"
   ]
  },
  {
   "cell_type": "code",
   "execution_count": 69,
   "id": "94bd72c4-401c-449b-b1eb-d249bdfe22bd",
   "metadata": {},
   "outputs": [
    {
     "name": "stdout",
     "output_type": "stream",
     "text": [
      "['grape', 'orange', 'banana', 'Apple']\n"
     ]
    }
   ],
   "source": [
    "my_list = ['Apple', 'banana', 'orange', 'grape']\n",
    "my_list.reverse()\n",
    "print(my_list)"
   ]
  },
  {
   "cell_type": "code",
   "execution_count": null,
   "id": "5ca0ad6d-b928-48e7-9625-9212ca23b840",
   "metadata": {},
   "outputs": [],
   "source": []
  }
 ],
 "metadata": {
  "kernelspec": {
   "display_name": "Python 3 (ipykernel)",
   "language": "python",
   "name": "python3"
  },
  "language_info": {
   "codemirror_mode": {
    "name": "ipython",
    "version": 3
   },
   "file_extension": ".py",
   "mimetype": "text/x-python",
   "name": "python",
   "nbconvert_exporter": "python",
   "pygments_lexer": "ipython3",
   "version": "3.11.7"
  }
 },
 "nbformat": 4,
 "nbformat_minor": 5
}
