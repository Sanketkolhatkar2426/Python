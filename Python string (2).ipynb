{
 "cells": [
  {
   "cell_type": "markdown",
   "id": "a82c9545-fc9a-495c-a225-bac144fefd3d",
   "metadata": {},
   "source": [
    "Python string"
   ]
  },
  {
   "cell_type": "code",
   "execution_count": 1,
   "id": "1c26a0e2-0e61-4220-b072-dc2662187c4e",
   "metadata": {},
   "outputs": [
    {
     "name": "stdout",
     "output_type": "stream",
     "text": [
      "Hello, World!\n"
     ]
    }
   ],
   "source": [
    "# Creating a string\n",
    "my_string = \"Hello, World!\"\n",
    "print(my_string) "
   ]
  },
  {
   "cell_type": "code",
   "execution_count": 2,
   "id": "00ed9bcc-4220-4a56-8f57-08c309fddbfe",
   "metadata": {},
   "outputs": [
    {
     "name": "stdout",
     "output_type": "stream",
     "text": [
      "Sanket\n"
     ]
    }
   ],
   "source": [
    "my_string = 'Sanket'\n",
    "print(my_string)"
   ]
  },
  {
   "cell_type": "code",
   "execution_count": 3,
   "id": "54cde0d6-379f-476c-8682-d5dbb29a5dd1",
   "metadata": {},
   "outputs": [
    {
     "name": "stdout",
     "output_type": "stream",
     "text": [
      " hi\n"
     ]
    }
   ],
   "source": [
    "my_string = \"\"\" hi\"\"\"\n",
    "print(my_string)"
   ]
  },
  {
   "cell_type": "code",
   "execution_count": 4,
   "id": "45e03e4c-38ca-4147-a4ed-a44d0dbc3d75",
   "metadata": {},
   "outputs": [
    {
     "name": "stdout",
     "output_type": "stream",
     "text": [
      "data Analyst\n"
     ]
    }
   ],
   "source": [
    "# Concatenation\n",
    "string1 = \"data\"\n",
    "string2 = \"Analyst\"\n",
    "concatenated_string = string1 + \" \" + string2\n",
    "print(concatenated_string)"
   ]
  },
  {
   "cell_type": "code",
   "execution_count": 5,
   "id": "8b91b9cf-e5fe-4d38-aa11-b45dac0c2ed0",
   "metadata": {},
   "outputs": [
    {
     "name": "stdout",
     "output_type": "stream",
     "text": [
      "Hello Hello Hello Hello  World World World World \n"
     ]
    }
   ],
   "source": [
    "#  repetition\n",
    "string1 = \"Hello\"\n",
    "string2 = \"World\"\n",
    "concatenated_string = (string1 + \" \") * 4 + \" \" + (string2 + \" \") * 4\n",
    "print(concatenated_string)"
   ]
  },
  {
   "cell_type": "code",
   "execution_count": 6,
   "id": "19cb2212-2e0d-43c0-904d-6d9608856253",
   "metadata": {},
   "outputs": [
    {
     "name": "stdout",
     "output_type": "stream",
     "text": [
      "Hello World  Hello World  Hello World  Hello World  \n"
     ]
    }
   ],
   "source": [
    "string1 = \"Hello\"\n",
    "string2 = \"World\"\n",
    "concatenated_string = (string1 + \" \"  + string2 + \"  \" ) * 4 \n",
    "print(concatenated_string)"
   ]
  },
  {
   "cell_type": "code",
   "execution_count": 7,
   "id": "a81d84b0-a014-4047-a8d6-ec17c3fdb2bd",
   "metadata": {},
   "outputs": [
    {
     "name": "stdout",
     "output_type": "stream",
     "text": [
      "p\n",
      "n\n"
     ]
    }
   ],
   "source": [
    "#index\n",
    "string = \"python\"\n",
    "print(string[0])\n",
    "print(string[-1])"
   ]
  },
  {
   "cell_type": "code",
   "execution_count": 9,
   "id": "0e41b902-98b1-4f0b-ae33-8f7115e35575",
   "metadata": {},
   "outputs": [
    {
     "name": "stdout",
     "output_type": "stream",
     "text": [
      " \n"
     ]
    }
   ],
   "source": [
    "string_quote = \"Success is not final failure is not fatal, It is the courage to continue that counts\"\n",
    "print(string_quote[10])"
   ]
  },
  {
   "cell_type": "code",
   "execution_count": 10,
   "id": "563ff3be-e731-48b9-8507-91e9e87ea38d",
   "metadata": {},
   "outputs": [
    {
     "name": "stdout",
     "output_type": "stream",
     "text": [
      "o, w\n"
     ]
    }
   ],
   "source": [
    "#slicing\n",
    "my_string = \" hello, world \"\n",
    "substring = my_string[5:9]\n",
    "print(substring)"
   ]
  },
  {
   "cell_type": "code",
   "execution_count": 11,
   "id": "d84c23f7-0356-4e3d-8c53-c330f04bcc24",
   "metadata": {},
   "outputs": [
    {
     "name": "stdout",
     "output_type": "stream",
     "text": [
      " not final\n"
     ]
    }
   ],
   "source": [
    "my_string = \"Success is not final failure is not fatal, It is the courage to continue that counts\"\n",
    "substring = my_string[10:20]\n",
    "print(substring)"
   ]
  },
  {
   "cell_type": "code",
   "execution_count": 13,
   "id": "01fc83a3-9f85-47c7-bf43-b76828b9680e",
   "metadata": {},
   "outputs": [
    {
     "name": "stdout",
     "output_type": "stream",
     "text": [
      "My name is Sanket and I'm 22 years old.\n"
     ]
    }
   ],
   "source": [
    "# python format string %\n",
    "name = \"Sanket\"\n",
    "age = 22\n",
    "formatted_string = \"My name is %s and I'm %d years old.\" % (name, age)\n",
    "print(formatted_string)"
   ]
  },
  {
   "cell_type": "code",
   "execution_count": 14,
   "id": "fb8c66c7-3fb2-4ad3-b4e4-9ebb91242262",
   "metadata": {},
   "outputs": [
    {
     "name": "stdout",
     "output_type": "stream",
     "text": [
      "My name is Sanket and I'm 30 years old.\n"
     ]
    }
   ],
   "source": [
    "# format method ()\n",
    "name = 'Sanket'\n",
    "age = 30\n",
    "formatted_string = \"My name is {} and I'm {} years old.\".format(name, age)\n",
    "print(formatted_string)"
   ]
  },
  {
   "cell_type": "code",
   "execution_count": 15,
   "id": "3efdbcff-bb8a-41c5-a9c4-959abf085682",
   "metadata": {},
   "outputs": [
    {
     "name": "stdout",
     "output_type": "stream",
     "text": [
      "\n",
      "Hello, my name is Sanket. \n",
      "I have completed my UG in Chandrapur in the stream of Bacholar of Commmers.\n",
      "I have a passion for editing, and photography.\n",
      "In my free time, I enjoy indulging in these activities.\n",
      "\n"
     ]
    }
   ],
   "source": [
    "# f\"\"\" string\n",
    "name = \"Sanket\"\n",
    "education = \"UG in Chandrapur in the stream of Bacholar of Commmers\"\n",
    "interests =  \"editing, and photography\"\n",
    "intro = f\"\"\"\n",
    "Hello, my name is {name}. \n",
    "I have completed my {education}.\n",
    "I have a passion for {interests}.\n",
    "In my free time, I enjoy indulging in these activities.\n",
    "\"\"\"\n",
    "print(intro)"
   ]
  },
  {
   "cell_type": "code",
   "execution_count": 16,
   "id": "ea128ce8-ac1f-4398-bd14-cf0b98069d09",
   "metadata": {},
   "outputs": [
    {
     "name": "stdout",
     "output_type": "stream",
     "text": [
      "218\n"
     ]
    }
   ],
   "source": [
    "#string methods\n",
    "# len\n",
    "my_string = \"\"\"Lost in a maze of memories, a weary traveler seeks the light of hope amidst the shadows of doubt. \n",
    "With each step, they unravel the mysteries of their past, guided by the flickering flames of resilience burning within.\"\"\"\n",
    "length = len(my_string)\n",
    "print(length)"
   ]
  },
  {
   "cell_type": "code",
   "execution_count": 17,
   "id": "8954b784-b94a-425d-96aa-84812aa58a58",
   "metadata": {},
   "outputs": [
    {
     "name": "stdout",
     "output_type": "stream",
     "text": [
      "ABCDEFGHIJKLMNOPQRSTUVWXYZ\n",
      "abcdefghijklmnopqrstuvwxyz\n"
     ]
    }
   ],
   "source": [
    "# lower and upper\n",
    "my_string1 = 'abcdefghijklmnopqrstuvwxyz'\n",
    "my_string2 = 'ABCDEFGHIJKLMNOPQRSTUVWXYZ'\n",
    "print(my_string1.upper())\n",
    "print(my_string2.lower())"
   ]
  },
  {
   "cell_type": "code",
   "execution_count": 18,
   "id": "1302d24b-a1ee-468e-8afe-54698e531690",
   "metadata": {},
   "outputs": [
    {
     "name": "stdout",
     "output_type": "stream",
     "text": [
      "Hello, World!\n"
     ]
    }
   ],
   "source": [
    "#strip\n",
    "string = \"  Hello, World!   \"\n",
    "stripped_text = string.strip()\n",
    "print(stripped_text) "
   ]
  },
  {
   "cell_type": "code",
   "execution_count": 19,
   "id": "55646590-0d2d-4662-a1f9-ca3ca7040d10",
   "metadata": {},
   "outputs": [
    {
     "name": "stdout",
     "output_type": "stream",
     "text": [
      "Lost in a maze of memories, a weary traveler seeks the light of hope amidst the shadows of doubt. \n",
      "With each step, they unravel the mysteries of their past, guided by the flickering flames of resilience burning within.\n"
     ]
    }
   ],
   "source": [
    "multi_string = \"\"\"Lost in a maze of memories, a weary traveler seeks the light of hope amidst the shadows of doubt. \n",
    "With each step, they unravel the mysteries of their past, guided by the flickering flames of resilience burning within.   \"\"\"\n",
    "stripped_text = multi_string.strip()\n",
    "print(stripped_text) "
   ]
  },
  {
   "cell_type": "code",
   "execution_count": 20,
   "id": "8e57f6ec-59e4-494d-b598-962dfe116334",
   "metadata": {},
   "outputs": [
    {
     "name": "stdout",
     "output_type": "stream",
     "text": [
      "1 1 two 1 two three\n"
     ]
    }
   ],
   "source": [
    "#replace\n",
    "text = \"one one two one two three\"\n",
    "new_text = text.replace(\"one\", \"1\")\n",
    "print(new_text) "
   ]
  },
  {
   "cell_type": "code",
   "execution_count": 21,
   "id": "3866f3e5-6c7d-413a-a313-5463913b9fe8",
   "metadata": {},
   "outputs": [
    {
     "name": "stdout",
     "output_type": "stream",
     "text": [
      "one one 2 one 2 three\n"
     ]
    }
   ],
   "source": [
    "text = \"one one two one two three\"\n",
    "new_text = text.replace(\"two\", \"2\", )\n",
    "print(new_text) "
   ]
  },
  {
   "cell_type": "code",
   "execution_count": 22,
   "id": "72d389c8-6a68-491a-bd84-87254f325304",
   "metadata": {},
   "outputs": [
    {
     "name": "stdout",
     "output_type": "stream",
     "text": [
      "['Hello,', 'World!']\n"
     ]
    }
   ],
   "source": [
    "#split \n",
    "string = \"Hello, World!\"\n",
    "words = string.split()\n",
    "print(words) "
   ]
  },
  {
   "cell_type": "code",
   "execution_count": 23,
   "id": "cd61fd44-b9fe-4148-9b58-50351d5af26e",
   "metadata": {},
   "outputs": [
    {
     "name": "stdout",
     "output_type": "stream",
     "text": [
      "['', ',banana,orange']\n"
     ]
    }
   ],
   "source": [
    "string = \"apple,banana,orange\"\n",
    "fruits = string.split(\"apple\")\n",
    "print(fruits)"
   ]
  },
  {
   "cell_type": "code",
   "execution_count": null,
   "id": "64374970-cf49-4510-b4ba-bd1de020c0f7",
   "metadata": {},
   "outputs": [],
   "source": [
    "split = \"apple,banana,orange\"\n",
    "fruits = split.split(\",\")\n",
    "print(fruits)"
   ]
  },
  {
   "cell_type": "code",
   "execution_count": 24,
   "id": "efa9994f-2cbc-4d3b-9c6b-2c8b661c828c",
   "metadata": {},
   "outputs": [
    {
     "name": "stdout",
     "output_type": "stream",
     "text": [
      "apple, banana, orange\n"
     ]
    }
   ],
   "source": [
    "# join\n",
    "fruits = [\"apple\", \"banana\", \"orange\"]\n",
    "fruit_string = \", \".join(fruits)\n",
    "print(fruit_string) "
   ]
  },
  {
   "cell_type": "code",
   "execution_count": 25,
   "id": "4dfaef78-162e-41a7-bd7c-27b6fdedfe14",
   "metadata": {},
   "outputs": [
    {
     "name": "stdout",
     "output_type": "stream",
     "text": [
      "abcd\n"
     ]
    }
   ],
   "source": [
    "characters = ['a', 'b', 'c', 'd']\n",
    "char_string = ''.join(characters) \n",
    "print(char_string) "
   ]
  },
  {
   "cell_type": "code",
   "execution_count": null,
   "id": "ebc2355e-5d83-48d0-8587-b716a1d8bba5",
   "metadata": {},
   "outputs": [],
   "source": []
  }
 ],
 "metadata": {
  "kernelspec": {
   "display_name": "Python 3 (ipykernel)",
   "language": "python",
   "name": "python3"
  },
  "language_info": {
   "codemirror_mode": {
    "name": "ipython",
    "version": 3
   },
   "file_extension": ".py",
   "mimetype": "text/x-python",
   "name": "python",
   "nbconvert_exporter": "python",
   "pygments_lexer": "ipython3",
   "version": "3.12.4"
  }
 },
 "nbformat": 4,
 "nbformat_minor": 5
}
