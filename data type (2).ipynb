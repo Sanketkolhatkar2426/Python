{
 "cells": [
  {
   "cell_type": "code",
   "execution_count": 2,
   "id": "0f59a094-f716-4af0-81df-280951f979f7",
   "metadata": {},
   "outputs": [
    {
     "name": "stdout",
     "output_type": "stream",
     "text": [
      "['apple', 'banana ', 'mango']\n"
     ]
    }
   ],
   "source": [
    "#1 create list of fruits and add fruits in list\n",
    "my_fruits = ['apple', 'banana ', 'mango']\n",
    "print(my_fruits)"
   ]
  },
  {
   "cell_type": "code",
   "execution_count": 3,
   "id": "6ca50a43-1a1f-4876-8a46-53f8611550c6",
   "metadata": {},
   "outputs": [],
   "source": [
    " # create a index one postive and one negavitve\n",
    "# create a 3 list and concatenate than a single list\n",
    "# write a python program to count the occurrence of a element given list\n",
    "# create a dicnarit to store the information age name location qualification gender\n",
    "# add a new key value in existing dictionary \n",
    "# create 2 dict merge them as a single dictionary\n",
    "# write a python program to remove keyvalue from a dictionary\n",
    "# create 2 sets each set contain 7 apply union ,intersection\n",
    "# create aset with 15 the much reapted values apply dulicate method"
   ]
  },
  {
   "cell_type": "code",
   "execution_count": 30,
   "id": "4f09e480-aa6b-405f-8ec9-9626f56b35dd",
   "metadata": {},
   "outputs": [
    {
     "name": "stdout",
     "output_type": "stream",
     "text": [
      "3\n",
      "-3\n"
     ]
    }
   ],
   "source": [
    "#2 create a index one postive and one negavitve\n",
    "# Define a list\n",
    "my_list = [1, 2, 3, 4, 5, 6, 7, 8, 9, 10]\n",
    "\n",
    "# Positive index\n",
    "positive_element = 3\n",
    "\n",
    "# Negative index\n",
    "negative_element = -3\n",
    "\n",
    "print(positive_element)\n",
    "print(negative_element)"
   ]
  },
  {
   "cell_type": "code",
   "execution_count": 31,
   "id": "67cbc945-8147-4af9-ac70-e9704aefcace",
   "metadata": {},
   "outputs": [
    {
     "name": "stdout",
     "output_type": "stream",
     "text": [
      "[1, 2, 3, 4, 5, 6, 7, 8, 9]\n"
     ]
    }
   ],
   "source": [
    "#3 create a 3 list and concatenated than a single list\n",
    "# Define three lists\n",
    "list1 = [1, 2, 3]\n",
    "list2 = [4, 5, 6]\n",
    "list3 = [7, 8, 9]\n",
    "\n",
    "# Concatenate the lists\n",
    "concatenated_list = list1 + list2 + list3\n",
    "\n",
    "print(concatenated_list)"
   ]
  },
  {
   "cell_type": "code",
   "execution_count": 32,
   "id": "feee227d-5e8f-4570-9295-a1fc1f377fee",
   "metadata": {},
   "outputs": [
    {
     "name": "stdout",
     "output_type": "stream",
     "text": [
      "3\n"
     ]
    }
   ],
   "source": [
    "#4 write a python program to count the occurrence of a element given list\n",
    "list = [1,2,3,3,4,5,6,6,6,7,7,8,9,9,10]\n",
    "count =list.count(6)\n",
    "print(count)"
   ]
  },
  {
   "cell_type": "code",
   "execution_count": 33,
   "id": "6fe2c8b5-faff-4af6-9a70-a122cc85ff5a",
   "metadata": {},
   "outputs": [
    {
     "name": "stdout",
     "output_type": "stream",
     "text": [
      "Name: Sanket\n",
      "Age: 22\n",
      "Location: Hyderabad\n",
      "Qualification: Bachelor's Degree\n",
      "Gender: Male\n"
     ]
    }
   ],
   "source": [
    "#5 create a dictionary to store the information age name location qualification gender\n",
    "# Create a dictionary to store information\n",
    "person_info = {\n",
    "    \"name\": \"Sanket\",\n",
    "    \"age\": 22,\n",
    "    \"location\": \"Hyderabad\",\n",
    "    \"qualification\": \"Bachelor's Degree\",\n",
    "    \"gender\": \"Male\"\n",
    "}\n",
    "\n",
    "# Print information about the person\n",
    "print(\"Name:\", person_info[\"name\"])\n",
    "print(\"Age:\", person_info[\"age\"])\n",
    "print(\"Location:\", person_info[\"location\"])\n",
    "print(\"Qualification:\", person_info[\"qualification\"])\n",
    "print(\"Gender:\", person_info[\"gender\"])"
   ]
  },
  {
   "cell_type": "code",
   "execution_count": 34,
   "id": "d8fbf158-9479-48c9-9670-07dd6084233c",
   "metadata": {},
   "outputs": [
    {
     "name": "stdout",
     "output_type": "stream",
     "text": [
      "{'name': 'Sanket', 'age': 22, 'location': 'Hyderabad', 'qualification': \"Bachelor's Degree\", 'gender': 'Male', 'email': 'Sankketkolhatkar367@gmail.com'}\n"
     ]
    }
   ],
   "source": [
    "#6 add a new key value in existing dictionary\n",
    "person_info = {\n",
    "    \"name\": \"Sanket\",\n",
    "    \"age\": 22,\n",
    "    \"location\": \"Hyderabad\",\n",
    "    \"qualification\": \"Bachelor's Degree\",\n",
    "    \"gender\": \"Male\"\n",
    "}\n",
    "new_data = {\"email\" : \"Sankketkolhatkar367@gmail.com\"}\n",
    "person_info.update(new_data)\n",
    "print(person_info)"
   ]
  },
  {
   "cell_type": "code",
   "execution_count": 35,
   "id": "3fe61748-98f0-44ca-82ce-cbbff4cda382",
   "metadata": {},
   "outputs": [
    {
     "name": "stdout",
     "output_type": "stream",
     "text": [
      "{'name': 'Sanket', 'age': 22, 'location': 'hyd', 'gender': 'Male'}\n"
     ]
    }
   ],
   "source": [
    "#7 Two dictionaries to merge\n",
    "dict1 = {\"name\": \"Sanket\", \"age\": 22}\n",
    "dict2 = {\"location\": \"hyd\", \"gender\": \"Male\"}\n",
    "\n",
    "# Merge dictionaries using dictionary unpacking **\n",
    "merged_dict = {**dict1, **dict2}\n",
    "\n",
    "# Print the merged dictionary\n",
    "print(merged_dict)"
   ]
  },
  {
   "cell_type": "code",
   "execution_count": 36,
   "id": "c7a869b3-8c1a-4d9a-9836-4d5ed617655c",
   "metadata": {},
   "outputs": [
    {
     "name": "stdout",
     "output_type": "stream",
     "text": [
      "{'name': 'Sanket', 'location': 'Hyderabad', 'qualification': \"Bachelor's Degree\", 'gender': 'Male'}\n"
     ]
    }
   ],
   "source": [
    "#8 write a python program to remove keyvalue from a dictionary\n",
    "my_dict = {\"name\": \"Sanket\",\n",
    "    \"age\": 22,\n",
    "    \"location\": \"Hyderabad\",\n",
    "    \"qualification\": \"Bachelor's Degree\",\n",
    "    \"gender\": \"Male\"}\n",
    "# Key to remove\n",
    "key_to_remove = \"age\"\n",
    "\n",
    "# Remove key-value pair using pop() method\n",
    "my_dict.pop(key_to_remove)\n",
    "print(my_dict)"
   ]
  },
  {
   "cell_type": "code",
   "execution_count": 37,
   "id": "cf9df8f0-e543-49f2-bfaa-d3b36d8bb0e7",
   "metadata": {},
   "outputs": [
    {
     "name": "stdout",
     "output_type": "stream",
     "text": [
      "Set 1: {1, 2, 3, 5, 6, 7, 101, 9, 200, 44, 108, 78}\n",
      "Set 2: {0, 1, 2, 3, 4, 5, 6, 7, 8, 9, 100, 1000}\n",
      "Union: {0, 1, 2, 3, 4, 5, 6, 7, 200, 9, 8, 78, 100, 101, 1000, 44, 108}\n",
      "Intersection: {1, 2, 3, 5, 6, 7, 9}\n",
      "Difference (Set 1 - Set 2): {101, 200, 108, 44, 78}\n",
      "Difference (Set 2 - Set 1): {0, 4, 100, 8, 1000}\n",
      "Symmetric Difference: {0, 4, 101, 8, 200, 100, 1000, 44, 108, 78}\n"
     ]
    }
   ],
   "source": [
    "#9 create 2sets each set contain 7 apply union ,intersection, difference,symmetric difference\n",
    "set1 = {1,2,3,3,44,5,5,6,7,78,9,9,101,108,200,200}\n",
    "set2 = {0,0,0,1,2,3,3,4,4,5,6,7,8,9,100,1000,100}\n",
    "\n",
    "# Apply set operations\n",
    "union_set = set1.union(set2)\n",
    "intersection_set = set1.intersection(set2)\n",
    "difference_set1_to_set2 = set1.difference(set2)\n",
    "difference_set2_to_set1 = set2.difference(set1)\n",
    "symmetric_difference_set = set1.symmetric_difference(set2)\n",
    "\n",
    "# Print the results\n",
    "print(\"Set 1:\", set1)\n",
    "print(\"Set 2:\", set2)\n",
    "print(\"Union:\", union_set)\n",
    "print(\"Intersection:\", intersection_set)\n",
    "print(\"Difference (Set 1 - Set 2):\", difference_set1_to_set2)\n",
    "print(\"Difference (Set 2 - Set 1):\", difference_set2_to_set1)\n",
    "print(\"Symmetric Difference:\", symmetric_difference_set)"
   ]
  },
  {
   "cell_type": "code",
   "execution_count": 38,
   "id": "5821daf9-2b22-49b5-948c-a1f14d86b068",
   "metadata": {},
   "outputs": [
    {
     "name": "stdout",
     "output_type": "stream",
     "text": [
      "Set with duplicates removed: {1, 2, 3, 4, 5, 6, 7, 8, 9, 10}\n"
     ]
    }
   ],
   "source": [
    "#10 create aset with 15 the much reapted values apply dulicate method\n",
    "# Create a list with repeated values\n",
    "values = [1, 2, 3, 4, 5, 5, 6, 6, 7, 7, 8, 8, 9, 9, 10]\n",
    "\n",
    "unique_values = set(values)\n",
    "\n",
    "# Print the set with duplicates removed\n",
    "print(\"Set with duplicates removed:\", unique_values)"
   ]
  }
 ],
 "metadata": {
  "kernelspec": {
   "display_name": "Python 3 (ipykernel)",
   "language": "python",
   "name": "python3"
  },
  "language_info": {
   "codemirror_mode": {
    "name": "ipython",
    "version": 3
   },
   "file_extension": ".py",
   "mimetype": "text/x-python",
   "name": "python",
   "nbconvert_exporter": "python",
   "pygments_lexer": "ipython3",
   "version": "3.12.4"
  }
 },
 "nbformat": 4,
 "nbformat_minor": 5
}
